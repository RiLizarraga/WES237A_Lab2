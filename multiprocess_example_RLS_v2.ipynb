{
 "cells": [
  {
   "cell_type": "markdown",
   "metadata": {},
   "source": [
    "# multiprocessing\n",
    "importing required libraries and our shared library"
   ]
  },
  {
   "cell_type": "code",
   "execution_count": null,
   "metadata": {},
   "outputs": [],
   "source": [
    "import ctypes\n",
    "import multiprocessing\n",
    "import os\n",
    "import time"
   ]
  },
  {
   "cell_type": "code",
   "execution_count": null,
   "metadata": {},
   "outputs": [],
   "source": [
    "''' COMPILING and LINKING the code\n",
    "$ gcc -c -Wall -Werror -fpic main.c\n",
    "$ gcc -shared -o libMyLib.so main.o\n",
    "'''\n",
    "_libInC = ctypes.CDLL('./libMyLib.so')#libMyLib.so this file is generated during LINKING-PROCESS"
   ]
  },
  {
   "cell_type": "markdown",
   "metadata": {},
   "source": [
    "Here, we slightly adjust our Python wrapper to calculate the results and print it. There is also some additional casting to ensure that the result of the _libInC.myAdd()_ is an int32 type."
   ]
  },
  {
   "cell_type": "code",
   "execution_count": null,
   "metadata": {},
   "outputs": [],
   "source": [
    "def addC_print(_i, a, b, time_started):\n",
    "    val = ctypes.c_int32(_libInC.myAdd(a, b)).value #cast the result to a 32 bit integer\n",
    "    end_time = time.time()\n",
    "    print('CPU_{} Add: {} in {}'.format(_i, val, end_time - time_started))\n",
    "    \n",
    "def multC_print(_i, a, b, time_started):\n",
    "    val = ctypes.c_int32(_libInC.myMult(a, b)).value #cast the result to a 32 bit integer\n",
    "    end_time = time.time()\n",
    "    print('CPU_{} Multiply: {} in {}'.format(_i, val, end_time - time_started))"
   ]
  },
  {
   "cell_type": "markdown",
   "metadata": {},
   "source": [
    "Now for the fun stuff.\n",
    "\n",
    "The multiprocessing library allows us to run simultaneous code by utilizing multiple processes. These processes are handled in separate memory spaces and are not restricted to the Global Interpreter Lock (GIL). \n",
    "\n",
    "Here we define two proceses, one to run the _addC_print_ and another to run the _multC_print()_ wrappers. \n",
    "\n",
    "Next we assign each process to be run on difference CPUs"
   ]
  },
  {
   "cell_type": "code",
   "execution_count": null,
   "metadata": {},
   "outputs": [],
   "source": [
    "procs = [] # a future list of all our processes\n",
    "\n",
    "# Launch process1 on CPU0\n",
    "p1_start = time.time()\n",
    "p1 = multiprocessing.Process(target=addC_print, args=(0, 3, 5, p1_start)) # the first arg defines which CPU to run the 'target' on\n",
    "os.system(\"taskset -p -c {} {}\".format(0, p1.pid)) # taskset is an os command to pin the process to a specific CPU\n",
    "p1.start() # start the process\n",
    "procs.append(p1)\n",
    "\n",
    "# Launch process2 on CPU1\n",
    "p2_start = time.time()\n",
    "p2 = multiprocessing.Process(target=multC_print, args=(1, 3, 5, p2_start)) # the first arg defines which CPU to run the 'target' on\n",
    "os.system(\"taskset -p -c {} {}\".format(1, p2.pid)) # taskset is an os command to pin the process to a specific CPU\n",
    "p2.start() # start the process\n",
    "procs.append(p2)\n",
    "\n",
    "p1Name = p1.name # get process1 name\n",
    "p2Name = p2.name # get process2 name\n",
    "\n",
    "# Here we wait for process1 to finish then wait for process2 to finish\n",
    "p1.join() # wait for process1 to finish\n",
    "print('Process 1 with name, {}, is finished'.format(p1Name))\n",
    "\n",
    "p2.join() # wait for process2 to finish\n",
    "print('Process 2 with name, {}, is finished'.format(p2Name))"
   ]
  },
  {
   "cell_type": "markdown",
   "metadata": {},
   "source": [
    "Return to 'main.c' and change the amount of sleep time (in seconds) of each function.\n",
    "\n",
    "For different values of sleep(), explain the difference between the results of the ‘Add’ and ‘Multiply’ functions and when the Processes are finished."
   ]
  },
  {
   "cell_type": "code",
   "execution_count": null,
   "metadata": {},
   "outputs": [],
   "source": []
  },
  {
   "cell_type": "markdown",
   "metadata": {},
   "source": [
    "## RLS notes\n",
    "                 taskset is an os command to pin the process to a specific CPU\n",
    "root@pynq:/home/xilinx/jupyter_notebooks/RLS/Lab2# taskset -h\n",
    "Usage: taskset [options] [mask | cpu-list] [pid|cmd [args...]]\n",
    "Show or change the CPU affinity of a process.\n",
    "\n",
    "Options:\n",
    " -a, --all-tasks         operate on all the tasks (threads) for a given pid\n",
    " -p, --pid               operate on existing given pid\n",
    " -c, --cpu-list          display and specify cpus in list format\n",
    " -h, --help              display this help\n",
    " -V, --version           display version\n",
    "\n",
    "The default behavior is to run a new command:\n",
    "    taskset 03 sshd -b 1024\n",
    "You can retrieve the mask of an existing task:\n",
    "    taskset -p 700\n",
    "Or set it:\n",
    "    taskset -p 03 700\n",
    "List format uses a comma-separated list instead of a mask:\n",
    "    taskset -pc 0,3,7-11 700\n",
    "Ranges in list format can take a stride argument:\n",
    "    e.g. 0-31:2 is equivalent to mask 0x55555555\n",
    "\n",
    "For more details see taskset(1)."
   ]
  },
  {
   "cell_type": "code",
   "execution_count": null,
   "metadata": {},
   "outputs": [],
   "source": [
    "## My Test code: Multiprocessing, linear programming\n",
    "import ctypes\n",
    "import multiprocessing\n",
    "import os\n",
    "import time\n",
    "\n",
    "''' COMPILING and LINKING the code\n",
    "$ gcc -c -Wall -Werror -fpic main.c\n",
    "$ gcc -shared -o libMyLib.so main.o\n",
    "'''\n",
    "_libInC = ctypes.CDLL('./libMyLib.so')#libMyLib.so this file is generated during LINKING-PROCESS\n",
    "\n",
    "def addC_print(_i, a, b, time_started):\n",
    "    val = ctypes.c_int32(_libInC.myAdd(a, b)).value #cast the result to a 32 bit integer\n",
    "    end_time = time.time()\n",
    "    print('.', end='')\n",
    "    print('CPU_{} Add: {} in {}'.format(_i, val, end_time - time_started))\n",
    "    \n",
    "def multC_print(_i, a, b, time_started):\n",
    "    val = ctypes.c_int32(_libInC.myMult(a, b)).value #cast the result to a 32 bit integer\n",
    "    end_time = time.time()\n",
    "    print('.', end='')\n",
    "    print('CPU_{} Multiply: {} in {}'.format(_i, val, end_time - time_started))\n",
    "\n",
    "procs = [] # a future list of all our processes\n",
    "\n",
    "# Launch process1 on CPU0\n",
    "cpu1 = 0;\n",
    "a = 3;b = 5\n",
    "p1_start = time.time()\n",
    "p1 = multiprocessing.Process(target=addC_print, args=(cpu1, a, b, p1_start)) # the first arg defines which CPU to run the 'target' on\n",
    "os.system(\"taskset -p -c {} {}\".format(0, p1.pid)) # taskset is an os command to pin the process to a specific CPU\n",
    "p1.start() # start the process\n",
    "procs.append(p1)\n",
    "\n",
    "# Launch process2 on CPU1\n",
    "cpu2 = 1;\n",
    "a = 3;b = 5\n",
    "p2_start = time.time()\n",
    "p2 = multiprocessing.Process(target=multC_print, args=(cpu2, a, b, p2_start)) # the first arg defines which CPU to run the 'target' on\n",
    "os.system(\"taskset -p -c {} {}\".format(1, p2.pid)) # taskset is an os command to pin the process to a specific CPU\n",
    "p2.start() # start the process\n",
    "procs.append(p2)\n",
    "\n",
    "p1Name = p1.name # get process1 name\n",
    "p2Name = p2.name\n",
    "p1PID = p1.pid # get process1 PID\n",
    "p2PID = p2.pid\n",
    "\n",
    "# Here we wait for process1 to finish then wait for process2 to finish\n",
    "p1.join() # wait for process1 to finish, join(): Block until all items in the queue have been gotten and processed.\n",
    "print('Process 1 with name: {}, PID: {} is finished'.format(p1Name, p1PID))#;print('PID {}'.format(p1PID))\n",
    "\n",
    "p2.join() # wait for process2 to finish\n",
    "print('Process 2 with name: {}, PID: {} is finished'.format(p2Name, p2PID))#;print('PID {}'.format(p2PID))\n",
    "\n"
   ]
  },
  {
   "cell_type": "code",
   "execution_count": null,
   "metadata": {},
   "outputs": [],
   "source": [
    "## My Test code: Multiprocessing Array object\n",
    "import ctypes\n",
    "import multiprocessing\n",
    "import os\n",
    "import time\n",
    "''' COMPILING and LINKING the code\n",
    "$ gcc -c -Wall -Werror -fpic main.c\n",
    "$ gcc -shared -o libMyLib.so main.o\n",
    "'''\n",
    "_libInC = ctypes.CDLL('./libMyLib.so')#libMyLib.so this file is generated during LINKING-PROCESS\n",
    "\n",
    "def addC_print(_i, a, b, time_started):\n",
    "    val = ctypes.c_int32(_libInC.myAdd(a, b)).value #cast the result to a 32 bit integer\n",
    "    end_time = time.time()\n",
    "    print('CPU_{} Add: {} in {}'.format(_i, val, end_time - time_started))\n",
    "    \n",
    "def multC_print(_i, a, b, time_started):\n",
    "    val = ctypes.c_int32(_libInC.myMult(a, b)).value #cast the result to a 32 bit integer\n",
    "    end_time = time.time()\n",
    "    print('CPU_{} Multiply: {} in {}'.format(_i, val, end_time - time_started))\n",
    "\n",
    "a = 3;b = 5\n",
    "cpusAry=[0, 1]\n",
    "functionsAry = [addC_print, multC_print]\n",
    "procs = []\n",
    "for i in range(2):#0,1\n",
    "    process_start = time.time()\n",
    "    p = multiprocessing.Process(target=functionsAry[i], args=(cpusAry[i], a, b, process_start))\n",
    "    os.system(\"taskset -p -c {} {}\".format(cpusAry[i], p.pid)) # taskset is an os command to pin the process to a specific CPU\n",
    "    p.start() # start the process\n",
    "    procs.append(p)\n",
    "    print('Process: {}, PID: {} Started'.format(p.name, p.pid))\n",
    "    \n",
    "procs[0].join() # wait for process1 to finish, join(): Block until all items in the queue have been gotten and processed.\n",
    "print('Process 1 with name: {}, PID: {} is finished'.format(procs[0].name, procs[0].pid))#;print('PID {}'.format(p1PID))\n",
    "\n",
    "procs[1].join() # wait for process2 to finish\n",
    "print('Process 2 with name: {}, PID: {} is finished'.format(procs[0].name, procs[0].pid))"
   ]
  },
  {
   "cell_type": "code",
   "execution_count": null,
   "metadata": {},
   "outputs": [],
   "source": [
    "\n",
    "cpusAry=[0, 1]\n",
    "functionsAry = [addC_print, multC_print]\n",
    "for i in range(2):\n",
    "    print(i)\n",
    "    print(functionsAry[i])\n",
    "    print(cpusAry[i])\n",
    "    process_start = time.time()\n",
    "    print(process_start)"
   ]
  },
  {
   "cell_type": "markdown",
   "metadata": {},
   "source": [
    "# Lab work\n",
    "\n",
    "One way around the GIL in order to share memory objects is to use multiprocessing objects. Here, we're going to do the following.\n",
    "\n",
    "1. Create a multiprocessing array object with 2 entries of integer type.\n",
    "2. Launch 1 process to compute addition and 1 process to compute multiplication.\n",
    "3. Assign the results to separate positions in the array.\n",
    "  1. Process 1 (add) is stored in index 0 of the array (array[0])\n",
    "  2. Process 2 (mult) is stored in index 1 of the array (array[1])\n",
    "4. Print the results from the array.\n",
    "\n",
    "\n",
    "Thus, the multiprocessing Array object exists in a _shared memory_ space so both processes can access it.\n",
    "\n",
    "## Array documentation:\n",
    "\n",
    "https://docs.python.org/2/library/multiprocessing.html#multiprocessing.Array\n",
    "\n",
    "\n",
    "## typecodes/types for Array:\n",
    "'c': ctypes.c_char\n",
    "\n",
    "'b': ctypes.c_byte\n",
    "\n",
    "'B': ctypes.c_ubyte\n",
    "\n",
    "'h': ctypes.c_short\n",
    "\n",
    "'H': ctypes.c_ushort\n",
    "\n",
    "'i': ctypes.c_int\n",
    "\n",
    "'I': ctypes.c_uint\n",
    "\n",
    "'l': ctypes.c_long\n",
    "\n",
    "'L': ctypes.c_ulong\n",
    "\n",
    "'f': ctypes.c_float\n",
    "\n",
    "'d': ctypes.c_double\n",
    "\n",
    "## Try to find an example\n",
    "\n",
    "You can use online reources to find an example for how to use multiprocessing Array "
   ]
  },
  {
   "cell_type": "code",
   "execution_count": 10,
   "metadata": {
    "scrolled": false
   },
   "outputs": [
    {
     "name": "stderr",
     "output_type": "stream",
     "text": [
      "taskset: invalid PID argument: 'None'\n"
     ]
    },
    {
     "name": "stdout",
     "output_type": "stream",
     "text": [
      "Process: Process-17, PID: 4961 Started\n"
     ]
    },
    {
     "name": "stderr",
     "output_type": "stream",
     "text": [
      "taskset: invalid PID argument: 'None'\n"
     ]
    },
    {
     "name": "stdout",
     "output_type": "stream",
     "text": [
      "Process: Process-18, PID: 4964 Started\n",
      "Process-17 is finished\n",
      "value = 15\n",
      "Process-18 is finished\n",
      "Return Value 0 = 8.0\n",
      "Return Value 1 = 15.0\n"
     ]
    }
   ],
   "source": [
    "## My Test code: Multiprocessing Array object\n",
    "import ctypes\n",
    "import multiprocessing\n",
    "import os\n",
    "import time\n",
    "from multiprocessing import Process, Lock\n",
    "from multiprocessing.sharedctypes import Value, Array\n",
    "from ctypes import Structure, c_double\n",
    "''' COMPILING and LINKING the code\n",
    "$ gcc -c -Wall -Werror -fpic main.c\n",
    "$ gcc -shared -o libMyLib.so main.o\n",
    "'''\n",
    "_libInC = ctypes.CDLL('./libMyLib.so')#libMyLib.so this file is generated during LINKING-PROCESS\n",
    "def addC_no_print(_i, a, b, returnValue):\n",
    "    '''\n",
    "    Params:\n",
    "      _i   : Index of the process being run (0 or 1)\n",
    "      a, b : Integers to add\n",
    "      returnValues : Multiprocessing array in which we will store the result at index _i\n",
    "    '''\n",
    "    val = ctypes.c_int32(_libInC.myAdd(a, b)).value\n",
    "    # TODO: add code here to pass val to correct position returnValues\n",
    "    returnValues[_i] = val\n",
    "    \n",
    "def multC_no_print(_i, a, b, returnValue):\n",
    "    '''\n",
    "    Params:\n",
    "      _i   : Index of the process being run (0 or 1)\n",
    "      a, b : Integers to multiply\n",
    "      returnValues : Multiprocessing array in which we will store the result at index _i\n",
    "    '''    \n",
    "    val = ctypes.c_int32(_libInC.myMult(a, b)).value\n",
    "    print(\"value = \"+str(val))\n",
    "    # TODO: add code here to pass val to correct position of returnValues\n",
    "    returnValues[_i] = val\n",
    "    \n",
    "procs = []\n",
    "\n",
    "# TODO: define returnValues here. Check the multiprocessing docs to see \n",
    "# about initializing an array object for 2 processes. \n",
    "# Note the data type that will be stored in the array\n",
    "returnValues = Array(c_double,[0, 0], lock=False)\n",
    "\n",
    "cpusAry=[0, 1];a = 3;b = 5;functionsAry = [addC_no_print, multC_no_print]\n",
    "for i in range(2):#0,1\n",
    "    process_start = time.time()\n",
    "    p = multiprocessing.Process(target=functionsAry[i], args=(cpusAry[i], a, b, returnValues))\n",
    "    os.system(\"taskset -p -c {} {}\".format(cpusAry[i], p.pid)) # taskset is an os command to pin the process to a specific CPU\n",
    "    p.start() # start the process\n",
    "    procs.append(p)\n",
    "    print('Process: {}, PID: {} Started'.format(p.name, p.pid))\n",
    "# Wait for the processes to finish\n",
    "for p in procs:\n",
    "    pName = p.name # get process name\n",
    "    p.join() # wait for the process to finish\n",
    "    print('{} is finished'.format(pName))\n",
    "# TODO print the results that have been stored in returnValues\n",
    "for i in range(2):\n",
    "    print('Return Value {} = {}'.format(i, returnValues[i]))"
   ]
  }
 ],
 "metadata": {
  "kernelspec": {
   "display_name": "Python 3 (ipykernel)",
   "language": "python",
   "name": "python3"
  },
  "language_info": {
   "codemirror_mode": {
    "name": "ipython",
    "version": 3
   },
   "file_extension": ".py",
   "mimetype": "text/x-python",
   "name": "python",
   "nbconvert_exporter": "python",
   "pygments_lexer": "ipython3",
   "version": "3.10.4"
  }
 },
 "nbformat": 4,
 "nbformat_minor": 2
}
